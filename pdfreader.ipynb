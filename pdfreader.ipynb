{
 "cells": [
  {
   "cell_type": "code",
   "execution_count": 5,
   "metadata": {},
   "outputs": [
    {
     "name": "stderr",
     "output_type": "stream",
     "text": [
      "\u001b[32m2023-10-24 22:56:22.860\u001b[0m | \u001b[1mINFO    \u001b[0m | \u001b[36mpreprocess\u001b[0m:\u001b[36mpreprocess_pdf_from_directory\u001b[0m:\u001b[36m54\u001b[0m - \u001b[1mLoading PDFs\u001b[0m\n",
      "100%|██████████| 11/11 [00:03<00:00,  3.58it/s]\n",
      "/home/angus/miniconda3/envs/langchain/lib/python3.10/site-packages/langchain/embeddings/openai.py:217: UserWarning: WARNING! model_name is not default parameter.\n",
      "                    model_name was transferred to model_kwargs.\n",
      "                    Please confirm that model_name is what you intended.\n",
      "  warnings.warn(\n",
      "\u001b[32m2023-10-24 22:56:25.944\u001b[0m | \u001b[1mINFO    \u001b[0m | \u001b[36mpreprocess\u001b[0m:\u001b[36mget_pdf_embeddings\u001b[0m:\u001b[36m64\u001b[0m - \u001b[1mGetting embeddings\u001b[0m\n",
      "100%|██████████| 24/24 [00:10<00:00,  2.31it/s]\n"
     ]
    }
   ],
   "source": [
    "from dotenv import load_dotenv,find_dotenv\n",
    "load_dotenv(find_dotenv(\"keys.env\"))\n",
    "\n",
    "from preprocess import preprocess_pdf_from_directory,get_pdf_embeddings\n",
    "pages = preprocess_pdf_from_directory()\n",
    "embedds = get_pdf_embeddings(pages)"
   ]
  },
  {
   "cell_type": "code",
   "execution_count": 21,
   "metadata": {},
   "outputs": [
    {
     "name": "stderr",
     "output_type": "stream",
     "text": [
      "/home/angus/miniconda3/envs/langchain/lib/python3.10/site-packages/langchain/embeddings/openai.py:217: UserWarning: WARNING! model_name is not default parameter.\n",
      "                    model_name was transferred to model_kwargs.\n",
      "                    Please confirm that model_name is what you intended.\n",
      "  warnings.warn(\n"
     ]
    }
   ],
   "source": [
    "from langchain.embeddings import OpenAIEmbeddings\n",
    "embedding = OpenAIEmbeddings(model_name=\"ada\")"
   ]
  },
  {
   "cell_type": "code",
   "execution_count": 24,
   "metadata": {},
   "outputs": [],
   "source": [
    "from vector_store import VectorStore\n",
    "vstore = VectorStore()\n",
    "vstore.init_vector_store()\n",
    "vstore.describe_index()\n",
    "db = vstore.store_embeddings(pages,embedding)"
   ]
  },
  {
   "cell_type": "code",
   "execution_count": 25,
   "metadata": {},
   "outputs": [
    {
     "data": {
      "text/plain": [
       "[Document(page_content='Yes\\n\\nWhen did you start living at this address?\\n\\n2022-11\\n\\nAbout your home\\n\\nI rent it\\n\\nName\\n\\nPREC LONRES PROPCO 2 S.A R.L.\\n\\nAddress\\n\\n15, Boulevard F.W. Raiffeisen\\n\\nTown/City\\n\\nLuxembourg\\n\\nProvince/Region/State\\n\\nGrand Duchy of Luxembourg\\n\\nLANG SUN ANGUS LEE\\n\\nPage 3 of 9\\n\\nUK Visas & Immigration\\n\\nPostal code (if applicable)\\n\\nL-2411\\n\\nCountry\\n\\nLuxembourg\\n\\nIs this a UK address?\\n\\nYes\\n\\nAddress\\n\\nFLAT 25, SIENNA HOUSE\\n\\n5, VICTORY PARADE\\n\\nTown or city\\n\\nLONDON\\n\\nPostcode\\n\\nE20 1EW', metadata={'source': '/mnt/c/Users/Angus/Downloads/LANG SUN ANGUS LEE-Unsubmitted (1).pdf', 'start_index': 2935.0}),\n",
       " Document(page_content='UNITED KINGDOM OF GREAT RRITAIN AND NORTHERN IRELAND O\\n\\nPASSPORT PASSEPORT\\n\\nType/Type\\n\\nP\\n\\nCode/Code GBR\\n\\nPassport No./Passeport No. 123816259\\n\\nSurname/Nom (1)\\n\\nLEE\\n\\nGiven names/Pr(cid:7)noms LANG SUN ANGUS\\n\\n(2)\\n\\nNationality/Nationalit(cid:23) BRITISH NATIONAL (OVERSEAS)\\n\\n(3)\\n\\n05/09/92\\n\\nDate of birth/Date de naissance (4) 05 SEP /SEPT 92 Sex/Sexe (5) Place of birth/Lieu de naissance (6) M HONG KONG', metadata={'source': '/mnt/c/Users/Angus/Downloads/bno passport (1).pdf', 'start_index': 467.0}),\n",
       " Document(page_content='UNITED KINGDOM OF GREAT RRITAIN AND NORTHERN IRELAND O\\n\\nPASSPORT PASSEPORT\\n\\nType/Type\\n\\nP\\n\\nCode/Code GBR\\n\\nPassport No./Passeport No. 123816259\\n\\nSurname/Nom (1)\\n\\nLEE\\n\\nGiven names/Pr(cid:7)noms LANG SUN ANGUS\\n\\n(2)\\n\\nNationality/Nationalit(cid:23) BRITISH NATIONAL (OVERSEAS)\\n\\n(3)\\n\\n05/09/92\\n\\nDate of birth/Date de naissance (4) 05 SEP /SEPT 92 Sex/Sexe (5) Place of birth/Lieu de naissance (6) M HONG KONG', metadata={'source': '/mnt/c/Users/Angus/Downloads/bno passport.pdf', 'start_index': 467.0}),\n",
       " Document(page_content='6. The parties irrevocably agree that the courts of England and Wales have exclusive jurisdiction to settle any dispute or claim (including non-contractual disputes or claims) that arises out of, or in connection with, this letter agreement or its subject matter or formation.\\n\\nPinnacle Housing Limited. Registered office: 8th Floor Holborn Tower, 137-144 High Holborn London, WC1V 6PL Registered: England and Wales. Registration number: 02246643\\n\\nDocuSign Envelope ID: 76871247-5F50-4231-8DF8-F2941E627751', metadata={'source': '/mnt/c/Users/Angus/Downloads/46 Lambert House - Addendum (rental payment).docx.pdf', 'start_index': 2100.0})]"
      ]
     },
     "execution_count": 25,
     "metadata": {},
     "output_type": "execute_result"
    }
   ],
   "source": [
    "query = \"What is the name?\"\n",
    "result = db.similarity_search(query)\n",
    "result"
   ]
  },
  {
   "cell_type": "code",
   "execution_count": 27,
   "metadata": {},
   "outputs": [
    {
     "data": {
      "text/plain": [
       "' The name is LANG SUN ANGUS LEE.'"
      ]
     },
     "execution_count": 27,
     "metadata": {},
     "output_type": "execute_result"
    }
   ],
   "source": [
    "from langchain.chains.question_answering import load_qa_chain\n",
    "from langchain.llms import OpenAI\n",
    "chain = load_qa_chain(llm=OpenAI(), chain_type=\"map_reduce\")\n",
    "query = \"What is the name?\"\n",
    "chain.run(input_documents=result, question=query)"
   ]
  },
  {
   "cell_type": "code",
   "execution_count": null,
   "metadata": {},
   "outputs": [],
   "source": [
    "retriever = db.as_retriever()"
   ]
  },
  {
   "cell_type": "code",
   "execution_count": null,
   "metadata": {},
   "outputs": [],
   "source": []
  },
  {
   "cell_type": "code",
   "execution_count": null,
   "metadata": {},
   "outputs": [],
   "source": [
    "\n",
    "from langchain.chat_models import ChatOpenAI\n",
    "from langchain.chains import ConversationalRetrievalChain, LLMChain,StuffDocumentsChain\n",
    "from langchain.prompts import PromptTemplate\n",
    "from langchain.memory import ConversationBufferMemory\n",
    "\n",
    "memory = ConversationBufferMemory(memory_key=\"chat_history\", return_messages=True)\n",
    "qa = ConversationalRetrievalChain.from_llm(\n",
    "    OpenAI(temperature=0), retriever, memory=memory\n",
    ")"
   ]
  },
  {
   "cell_type": "code",
   "execution_count": null,
   "metadata": {},
   "outputs": [],
   "source": [
    "query = \"What is the name?\"\n",
    "result = qa({\"question\": query})\n",
    "result['answer']"
   ]
  },
  {
   "cell_type": "code",
   "execution_count": null,
   "metadata": {},
   "outputs": [],
   "source": [
    "query = f\"What is the account number of {result['answer']}?\"\n",
    "result = qa({\"question\": query})\n",
    "result['answer']"
   ]
  },
  {
   "cell_type": "code",
   "execution_count": null,
   "metadata": {},
   "outputs": [],
   "source": [
    "query = f\"Any balance?\"\n",
    "result = qa({\"question\": query})\n",
    "result['answer']"
   ]
  },
  {
   "cell_type": "code",
   "execution_count": null,
   "metadata": {},
   "outputs": [],
   "source": [
    "query = f\"Is he wihtin his credit limit?\"\n",
    "result = qa({\"question\": query})\n",
    "result['answer']"
   ]
  },
  {
   "cell_type": "code",
   "execution_count": null,
   "metadata": {},
   "outputs": [],
   "source": [
    "query = f\"what is his his credit limit?\"\n",
    "result = qa({\"question\": query})\n",
    "result['answer']"
   ]
  },
  {
   "cell_type": "code",
   "execution_count": null,
   "metadata": {},
   "outputs": [],
   "source": [
    "query = f\"What is the balace?\"\n",
    "result = qa({\"question\": query})\n",
    "result['answer']"
   ]
  },
  {
   "cell_type": "code",
   "execution_count": null,
   "metadata": {},
   "outputs": [],
   "source": [
    "query = f\"Is he over his credit limit?\"\n",
    "result = qa({\"question\": query})\n",
    "result['answer']"
   ]
  },
  {
   "cell_type": "code",
   "execution_count": null,
   "metadata": {},
   "outputs": [],
   "source": []
  }
 ],
 "metadata": {
  "kernelspec": {
   "display_name": "langchain",
   "language": "python",
   "name": "python3"
  },
  "language_info": {
   "codemirror_mode": {
    "name": "ipython",
    "version": 3
   },
   "file_extension": ".py",
   "mimetype": "text/x-python",
   "name": "python",
   "nbconvert_exporter": "python",
   "pygments_lexer": "ipython3",
   "version": "3.10.0"
  }
 },
 "nbformat": 4,
 "nbformat_minor": 2
}
